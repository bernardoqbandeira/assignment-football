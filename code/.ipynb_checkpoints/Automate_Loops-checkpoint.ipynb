{
 "cells": [
  {
   "cell_type": "markdown",
   "metadata": {},
   "source": [
    "## Automatization using Loops"
   ]
  },
  {
   "cell_type": "markdown",
   "metadata": {},
   "source": [
    "Calculating the Fahrenheut temperature of New York City in Celsius for each day of the December in recent years\n",
    "\n",
    "source: https://en.climate-data.org/travel/december/new-york-12"
   ]
  },
  {
   "cell_type": "code",
   "execution_count": 25,
   "metadata": {},
   "outputs": [],
   "source": [
    "avg_daily_temp_nyc_f = [45,42,47,45,46,44,39,36,41,40,36,39,38,39,43,38,39,35,35,36,40,42,41,40,39,38,40,36,34,34,35]"
   ]
  },
  {
   "cell_type": "code",
   "execution_count": 56,
   "metadata": {},
   "outputs": [
    {
     "name": "stdout",
     "output_type": "stream",
     "text": [
      "7\n",
      "5\n",
      "8\n",
      "7\n",
      "7\n",
      "6\n",
      "3\n",
      "2\n",
      "5\n",
      "4\n",
      "2\n",
      "3\n",
      "3\n",
      "3\n",
      "6\n",
      "3\n",
      "3\n",
      "1\n",
      "1\n",
      "2\n",
      "4\n",
      "5\n",
      "5\n",
      "4\n",
      "3\n",
      "3\n",
      "4\n",
      "2\n",
      "1\n",
      "1\n",
      "1\n"
     ]
    }
   ],
   "source": [
    "for day_f in avg_daily_temp_nyc_f:\n",
    "    day_c = int((day_f-32) * 5.0/9.0)\n",
    "    print (day_c)"
   ]
  },
  {
   "cell_type": "markdown",
   "metadata": {},
   "source": [
    "### Comparing both:"
   ]
  },
  {
   "cell_type": "code",
   "execution_count": 59,
   "metadata": {},
   "outputs": [],
   "source": [
    "avg_daily_temp_nyc_c = []\n",
    "for day_f in avg_daily_temp_nyc_f:\n",
    "    day_c = int((day_f-32) * 5.0/9.0)\n",
    "    avg_daily_temp_nyc_c.append(day_c)"
   ]
  },
  {
   "cell_type": "code",
   "execution_count": 60,
   "metadata": {},
   "outputs": [
    {
     "name": "stdout",
     "output_type": "stream",
     "text": [
      "Fahrenheit:\n",
      "[45, 42, 47, 45, 46, 44, 39, 36, 41, 40, 36, 39, 38, 39, 43, 38, 39, 35, 35, 36, 40, 42, 41, 40, 39, 38, 40, 36, 34, 34, 35]\n",
      "Celsius:\n",
      "[7, 5, 8, 7, 7, 6, 3, 2, 5, 4, 2, 3, 3, 3, 6, 3, 3, 1, 1, 2, 4, 5, 5, 4, 3, 3, 4, 2, 1, 1, 1]\n"
     ]
    }
   ],
   "source": [
    "print('Fahrenheit:')\n",
    "print(avg_daily_temp_nyc_f)\n",
    "\n",
    "print('Celsius:')\n",
    "print(avg_daily_temp_nyc_c)"
   ]
  },
  {
   "cell_type": "markdown",
   "metadata": {},
   "source": [
    "### Calculating the average:"
   ]
  },
  {
   "cell_type": "code",
   "execution_count": 61,
   "metadata": {},
   "outputs": [],
   "source": [
    "avg_monthly_temp_nyc_f = int(sum(avg_daily_temp_nyc_f)/31)\n"
   ]
  },
  {
   "cell_type": "code",
   "execution_count": 62,
   "metadata": {},
   "outputs": [],
   "source": [
    "avg_monthly_temp_nyc_c = int(sum(avg_daily_temp_nyc_c)/31)"
   ]
  },
  {
   "cell_type": "code",
   "execution_count": 63,
   "metadata": {},
   "outputs": [
    {
     "name": "stdout",
     "output_type": "stream",
     "text": [
      "Monthly Average Temperature December 2020 (F):\n",
      "39\n",
      "Monthly Average Temperature December 2020 (C):\n",
      "3\n"
     ]
    }
   ],
   "source": [
    "print('Monthly Average Temperature December 2020 (F):')\n",
    "print(avg_monthly_temp_nyc_f)\n",
    "print('Monthly Average Temperature December 2020 (C):')\n",
    "print(avg_monthly_temp_nyc_c)"
   ]
  },
  {
   "cell_type": "code",
   "execution_count": null,
   "metadata": {},
   "outputs": [],
   "source": []
  }
 ],
 "metadata": {
  "kernelspec": {
   "display_name": "Python 3",
   "language": "python",
   "name": "python3"
  },
  "language_info": {
   "codemirror_mode": {
    "name": "ipython",
    "version": 3
   },
   "file_extension": ".py",
   "mimetype": "text/x-python",
   "name": "python",
   "nbconvert_exporter": "python",
   "pygments_lexer": "ipython3",
   "version": "3.7.6"
  }
 },
 "nbformat": 4,
 "nbformat_minor": 4
}
