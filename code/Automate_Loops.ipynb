{
 "cells": [
  {
   "cell_type": "markdown",
   "metadata": {},
   "source": [
    "## Automatization using Loops"
   ]
  },
  {
   "cell_type": "markdown",
   "metadata": {},
   "source": [
    "Calculating the Fahrenheut temperature of New York City in Celsius for each day of the December 2020\n",
    "\n",
    "source: https://en.climate-data.org/travel/december/new-york-12"
   ]
  },
  {
   "cell_type": "code",
   "execution_count": 25,
   "metadata": {},
   "outputs": [],
   "source": [
    "avg_daily_temp_nyc_f = [45,42,47,45,46,44,39,36,41,40,36,39,38,39,43,38,39,35,35,36,40,42,41,40,39,38,40,36,34,34,35]"
   ]
  },
  {
   "cell_type": "code",
   "execution_count": 26,
   "metadata": {},
   "outputs": [
    {
     "name": "stdout",
     "output_type": "stream",
     "text": [
      "27\n",
      "24\n",
      "29\n",
      "27\n",
      "28\n",
      "26\n",
      "21\n",
      "18\n",
      "23\n",
      "22\n",
      "18\n",
      "21\n",
      "20\n",
      "21\n",
      "25\n",
      "20\n",
      "21\n",
      "17\n",
      "17\n",
      "18\n",
      "22\n",
      "24\n",
      "23\n",
      "22\n",
      "21\n",
      "20\n",
      "22\n",
      "18\n",
      "16\n",
      "16\n",
      "17\n"
     ]
    }
   ],
   "source": [
    "for day_f in avg_daily_temp_nyc_f:\n",
    "    day_c = int(day_f-32 * 5.0/9.0)\n",
    "    print (day_c)"
   ]
  },
  {
   "cell_type": "markdown",
   "metadata": {},
   "source": [
    "### Comparing both:"
   ]
  },
  {
   "cell_type": "code",
   "execution_count": 32,
   "metadata": {},
   "outputs": [],
   "source": [
    "avg_daily_temp_nyc_c = []\n",
    "for day_f in avg_daily_temp_nyc_f:\n",
    "    day_c = int(day_f-32 * 5.0/9.0)\n",
    "    avg_daily_temp_nyc_c.append(day_c)"
   ]
  },
  {
   "cell_type": "code",
   "execution_count": 37,
   "metadata": {},
   "outputs": [
    {
     "name": "stdout",
     "output_type": "stream",
     "text": [
      "Fahrenheit:\n",
      "[45, 42, 47, 45, 46, 44, 39, 36, 41, 40, 36, 39, 38, 39, 43, 38, 39, 35, 35, 36, 40, 42, 41, 40, 39, 38, 40, 36, 34, 34, 35]\n",
      "Celsius:\n",
      "[27, 24, 29, 27, 28, 26, 21, 18, 23, 22, 18, 21, 20, 21, 25, 20, 21, 17, 17, 18, 22, 24, 23, 22, 21, 20, 22, 18, 16, 16, 17]\n"
     ]
    }
   ],
   "source": [
    "print('Fahrenheit:')\n",
    "print(avg_daily_temp_nyc_f)\n",
    "\n",
    "print('Celsius:')\n",
    "print(avg_daily_temp_nyc_c)"
   ]
  },
  {
   "cell_type": "markdown",
   "metadata": {},
   "source": [
    "### Calculating the average"
   ]
  },
  {
   "cell_type": "code",
   "execution_count": 53,
   "metadata": {},
   "outputs": [],
   "source": [
    "avg_monthly_temp_nyc_f = int(sum(avg_daily_temp_nyc_f)/31)\n"
   ]
  },
  {
   "cell_type": "code",
   "execution_count": 54,
   "metadata": {},
   "outputs": [],
   "source": [
    "avg_monthly_temp_nyc_c = int(sum(avg_daily_temp_nyc_c)/31)"
   ]
  },
  {
   "cell_type": "code",
   "execution_count": 55,
   "metadata": {},
   "outputs": [
    {
     "name": "stdout",
     "output_type": "stream",
     "text": [
      "Monthly Average Temperature December 2020 (F):\n",
      "39\n",
      "Monthly Average Temperature December 2020 (C):\n",
      "21\n"
     ]
    }
   ],
   "source": [
    "print('Monthly Average Temperature December 2020 (F):')\n",
    "print(avg_monthly_temp_nyc_f)\n",
    "print('Monthly Average Temperature December 2020 (C):')\n",
    "print(avg_monthly_temp_nyc_c)"
   ]
  },
  {
   "cell_type": "code",
   "execution_count": null,
   "metadata": {},
   "outputs": [],
   "source": []
  }
 ],
 "metadata": {
  "kernelspec": {
   "display_name": "Python 3",
   "language": "python",
   "name": "python3"
  },
  "language_info": {
   "codemirror_mode": {
    "name": "ipython",
    "version": 3
   },
   "file_extension": ".py",
   "mimetype": "text/x-python",
   "name": "python",
   "nbconvert_exporter": "python",
   "pygments_lexer": "ipython3",
   "version": "3.7.6"
  }
 },
 "nbformat": 4,
 "nbformat_minor": 4
}
